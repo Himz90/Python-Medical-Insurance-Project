{
 "cells": [
  {
   "cell_type": "markdown",
   "metadata": {},
   "source": [
    "# Project: Linear Regression\n",
    "\n",
    "Reggie is a mad scientist who has been hired by the local fast food joint to build their newest ball pit in the play area. As such, he is working on researching the bounciness of different balls so as to optimize the pit. He is running an experiment to bounce different sizes of bouncy balls, and then fitting lines to the data points he records. He has heard of linear regression, but needs your help to implement a version of linear regression in Python.\n",
    "\n",
    "_Linear Regression_ is when you have a group of points on a graph, and you find a line that approximately resembles that group of points. A good Linear Regression algorithm minimizes the _error_, or the distance from each point to the line. A line with the least error is the line that fits the data the best. We call this a line of _best fit_.\n",
    "\n",
    "We will use loops, lists, and arithmetic to create a function that will find a line of best fit when given a set of data.\n"
   ]
  },
  {
   "cell_type": "markdown",
   "metadata": {},
   "source": [
    "## Part 1: Calculating Error"
   ]
  },
  {
   "cell_type": "markdown",
   "metadata": {},
   "source": [
    "\n",
    "The line we will end up with will have a formula that looks like:\n",
    "```\n",
    "y = m*x + b\n",
    "```\n",
    "`m` is the slope of the line and `b` is the intercept, where the line crosses the y-axis.\n",
    "\n",
    "Fill in the function called `get_y()` that takes in `m`, `b`, and `x`. It should return what the `y` value would be for that `x` on that line!\n"
   ]
  },
  {
   "cell_type": "code",
   "execution_count": 1,
   "metadata": {},
   "outputs": [],
   "source": [
    "def get_y(m,b, x) :\n",
    "  y = m*x+b\n",
    "  return y\n",
    "\n"
   ]
  },
  {
   "cell_type": "markdown",
   "metadata": {},
   "source": [
    "\n",
    "Reggie wants to try a bunch of different `m` values and `b` values and see which line produces the least error. To calculate error between a point and a line, he wants a function called `calculate_error()`, which will take in `m`, `b`, and an [x, y] point called `point` and return the distance between the line and the point.\n",
    "\n",
    "To find the distance:\n",
    "1. Get the x-value from the point and store it in a variable called `x_point`\n",
    "2. Get the y-value from the point and store it in a variable called `y_point`\n",
    "3. Use `get_y()` to get the y-value that `x_point` would be on the line\n",
    "4. Find the difference between the y from `get_y` and `y_point`\n",
    "5. Return the absolute value of the distance (you can use the built-in function `abs()` to do this)\n",
    "\n",
    "The distance represents the error between the line `y = m*x + b` and the `point` given.\n"
   ]
  },
  {
   "cell_type": "code",
   "execution_count": 2,
   "metadata": {
    "collapsed": true
   },
   "outputs": [],
   "source": [
    "def calculate_error(m,b ,point):\n",
    "    x_point, y_point = point\n",
    "    y = m*x_point + b\n",
    "    distance =abs(y- y_point)\n",
    "    return distance"
   ]
  },
  {
   "cell_type": "markdown",
   "metadata": {},
   "source": [
    "Let's test this function!"
   ]
  },
  {
   "cell_type": "code",
   "execution_count": 5,
   "metadata": {},
   "outputs": [
    {
     "name": "stdout",
     "output_type": "stream",
     "text": [
      "1\n",
      "0\n"
     ]
    }
   ],
   "source": [
    "# y = x, so (3, 2) error should be 1\n",
    "print(calculate_error(1, 0, (3, 2)))\n",
    "\n",
    "# y = x, so (3, 3) error should be 0\n",
    "print(calculate_error(1, 0, (3, 3)))\n"
   ]
  },
  {
   "cell_type": "markdown",
   "metadata": {
    "collapsed": true
   },
   "source": [
    "Great! Reggie's datasets will be sets of points. For example, he ran an experiment comparing the width of bouncy balls to how high they bounce:\n"
   ]
  },
  {
   "cell_type": "code",
   "execution_count": 16,
   "metadata": {
    "collapsed": true
   },
   "outputs": [],
   "source": [
    "Bouncyballs = [(1,0) , (1,2) ,(1,3), (9,6), (3,9), (5,4)]"
   ]
  },
  {
   "cell_type": "markdown",
   "metadata": {
    "collapsed": true
   },
   "source": [
    "The first datapoint, `(1, 2)`, means that his 1cm bouncy ball bounced 2 meters. The 4cm bouncy ball bounced 4 meters.\n",
    "\n",
    "As we try to fit a line to this data, we will need a function called `calculate_all_error`, which takes `m` and `b` that describe a line, and `points`, a set of data like the example above.\n",
    "\n",
    "`calculate_all_error` should iterate through each `point` in `points` and calculate the error from that point to the line (using `calculate_error`). It should keep a running total of the error, and then return that total after the loop.\n"
   ]
  },
  {
   "cell_type": "code",
   "execution_count": 26,
   "metadata": {
    "collapsed": true
   },
   "outputs": [],
   "source": [
    "def calculate_all_error(m, b, points):\n",
    "    full_errors = 0\n",
    "    for point in points:  # Corrected loop variable\n",
    "        point_error = calculate_error(m, b, point)\n",
    "        full_errors += point_error\n",
    "    return full_errors"
   ]
  },
  {
   "cell_type": "markdown",
   "metadata": {},
   "source": [
    "Let's test this function!"
   ]
  },
  {
   "cell_type": "code",
   "execution_count": 33,
   "metadata": {},
   "outputs": [
    {
     "name": "stdout",
     "output_type": "stream",
     "text": [
      "14\n",
      "16\n",
      "20\n",
      "192\n",
      "90\n",
      "100\n"
     ]
    }
   ],
   "source": [
    "Bouncyballs = [(1, 0), (1, 2), (1, 3), (9, 6), (3, 9), (5, 4)]\n",
    "print(calculate_all_error(1, 0, Bouncyballs))\n",
    "\n",
    "Bouncyballs = [(1, 0), (1, 2), (1, 3), (9, 6), (3, 9), (5, 4)]\n",
    "print(calculate_all_error(1, 2, Bouncyballs))\n",
    "\n",
    "\n",
    "Bouncyballs = [(1, 0), (1, 2), (1, 3), (9, 6), (3, 9), (5, 4)]\n",
    "print(calculate_all_error(1, 3, Bouncyballs))\n",
    "\n",
    "Bouncyballs = [(1, 0), (1, 2), (1, 3), (9, 6), (3, 9), (5, 4)]\n",
    "print(calculate_all_error(9,6, Bouncyballs))\n",
    "\n",
    "Bouncyballs = [(1, 0), (1, 2), (1, 3), (9, 6), (3, 9), (5, 4)]\n",
    "print(calculate_all_error(3, 9, Bouncyballs))\n",
    "\n",
    "\n",
    "Bouncyballs = [(1, 0), (1, 2), (1, 3), (9, 6), (3, 9), (5, 4)]\n",
    "print(calculate_all_error(5, 4, Bouncyballs))\n"
   ]
  },
  {
   "cell_type": "markdown",
   "metadata": {},
   "source": [
    "Great! It looks like we now have a function that can take in a line and Reggie's data and return how much error that line produces when we try to fit it to the data.\n",
    "\n",
    "Our next step is to find the `m` and `b` that minimizes this error, and thus fits the data best!\n"
   ]
  },
  {
   "cell_type": "markdown",
   "metadata": {},
   "source": [
    "## Part 2: Try a bunch of slopes and intercepts!\n"
   ]
  },
  {
   "cell_type": "markdown",
   "metadata": {},
   "source": [
    "The way Reggie wants to find a line of best fit is by trial and error. He wants to try a bunch of different slopes (`m` values) and a bunch of different intercepts (`b` values) and see which one produces the smallest error value for his dataset.\n",
    "\n",
    "Using a list comprehension, let's create a list of possible `m` values to try. Make the list `possible_ms` that goes from -10 to 10 inclusive, in increments of 0.1.\n",
    "\n",
    "Hint (to view this hint, either double-click this cell or highlight the following white space): <font color=\"white\">you can go through the values in range(-100, 100) and divide each one by 10</font>\n",
    "\n"
   ]
  },
  {
   "cell_type": "code",
   "execution_count": 34,
   "metadata": {
    "collapsed": true
   },
   "outputs": [],
   "source": [
    "\n",
    "possible_ms = [m/10 for m in range (-100 ,101)]\n"
   ]
  },
  {
   "cell_type": "markdown",
   "metadata": {},
   "source": [
    "Now, let's make a list of `possible_bs` to check that would be the values from -20 to 20 inclusive, in steps of 0.1:"
   ]
  },
  {
   "cell_type": "code",
   "execution_count": 39,
   "metadata": {
    "collapsed": true
   },
   "outputs": [],
   "source": [
    "possible_bs = [b/10 for b in range (-200, 201,)]"
   ]
  },
  {
   "cell_type": "markdown",
   "metadata": {},
   "source": [
    "We are going to find the smallest error. First, we will make every possible `y = m*x + b` line by pairing all of the possible `m`s with all of the possible `b`s. Then, we will see which `y = m*x + b` line produces the smallest total error with the set of data stored in `datapoint`.\n",
    "\n",
    "First, create the variables that we will be optimizing:\n",
    "* `smallest_error` &mdash; this should start at infinity (`float(\"inf\")`) so that any error we get at first will be smaller than our value of `smallest_error`\n",
    "* `best_m` &mdash; we can start this at `0`\n",
    "* `best_b` &mdash; we can start this at `0`\n",
    "\n",
    "We want to:\n",
    "* Iterate through each element `m` in `possible_ms`\n",
    "* For every `m` value, take every `b` value in `possible_bs`\n",
    "* If the value returned from `calculate_all_error` on this `m` value, this `b` value, and `datapoints` is less than our current `smallest_error`,\n",
    "* Set `best_m` and `best_b` to be these values, and set `smallest_error` to this error.\n",
    "\n",
    "By the end of these nested loops, the `smallest_error` should hold the smallest error we have found, and `best_m` and `best_b` should be the values that produced that smallest error value.\n",
    "\n",
    "Print out `best_m`, `best_b` and `smallest_error` after the loops.\n",
    "\n"
   ]
  },
  {
   "cell_type": "code",
   "execution_count": 44,
   "metadata": {},
   "outputs": [
    {
     "name": "stdout",
     "output_type": "stream",
     "text": [
      "-10.0 20.0 154.0\n",
      "-9.9 20.0 152.60000000000002\n",
      "-9.8 20.0 151.2\n",
      "-9.7 20.0 149.8\n",
      "-9.6 20.0 148.39999999999998\n",
      "-9.5 20.0 147.0\n",
      "-9.4 20.0 145.60000000000002\n",
      "-9.3 20.0 144.2\n",
      "-9.2 20.0 142.8\n",
      "-9.1 20.0 141.39999999999998\n",
      "-9.0 20.0 140.0\n",
      "-8.9 20.0 138.60000000000002\n",
      "-8.8 20.0 137.2\n",
      "-8.7 20.0 135.8\n",
      "-8.6 20.0 134.39999999999998\n",
      "-8.5 20.0 133.0\n",
      "-8.4 20.0 131.60000000000002\n",
      "-8.3 20.0 130.2\n",
      "-8.2 20.0 128.8\n",
      "-8.1 20.0 127.39999999999999\n",
      "-8.0 20.0 126.0\n",
      "-7.9 20.0 124.60000000000001\n",
      "-7.8 20.0 123.19999999999999\n",
      "-7.7 20.0 121.80000000000001\n",
      "-7.6 20.0 120.39999999999999\n",
      "-7.5 20.0 119.0\n",
      "-7.4 20.0 117.60000000000001\n",
      "-7.3 20.0 116.19999999999999\n",
      "-7.2 20.0 114.80000000000001\n",
      "-7.1 20.0 113.39999999999999\n",
      "-7.0 20.0 112.0\n",
      "-6.9 20.0 110.60000000000001\n",
      "-6.8 20.0 109.19999999999999\n",
      "-6.7 20.0 107.80000000000001\n",
      "-6.6 20.0 106.39999999999999\n",
      "-6.5 20.0 105.0\n",
      "-6.4 20.0 103.60000000000001\n",
      "-6.3 20.0 102.19999999999999\n",
      "-6.2 20.0 100.80000000000001\n",
      "-6.1 20.0 99.39999999999999\n",
      "-6.0 20.0 98.0\n",
      "-5.9 20.0 96.60000000000001\n",
      "-5.8 20.0 95.19999999999999\n",
      "-5.7 20.0 93.80000000000001\n",
      "-5.6 20.0 92.39999999999999\n",
      "-5.5 20.0 91.0\n",
      "-5.4 20.0 89.60000000000001\n",
      "-5.3 20.0 88.19999999999999\n",
      "-5.2 20.0 86.80000000000001\n",
      "-5.1 20.0 85.39999999999999\n",
      "-5.0 20.0 84.0\n",
      "-4.9 20.0 82.60000000000001\n",
      "-4.8 20.0 81.19999999999999\n",
      "-4.7 20.0 79.80000000000001\n",
      "-4.6 20.0 78.39999999999999\n",
      "-4.5 20.0 77.0\n",
      "-4.4 20.0 75.60000000000001\n",
      "-4.3 20.0 74.19999999999999\n",
      "-4.2 20.0 72.80000000000001\n",
      "-4.1 20.0 71.39999999999999\n",
      "-4.0 20.0 70.0\n",
      "-3.9 20.0 68.60000000000001\n",
      "-3.8 20.0 67.19999999999999\n",
      "-3.7 20.0 65.80000000000001\n",
      "-3.6 20.0 64.8\n",
      "-3.5 20.0 64.0\n",
      "-3.4 20.0 63.2\n",
      "-3.3 20.0 62.4\n",
      "-3.2 20.0 61.6\n",
      "-3.2 20.0 61.6\n",
      "-3.2 20.0 61.6\n",
      "-3.2 20.0 61.6\n",
      "-3.2 20.0 61.6\n",
      "-3.2 20.0 61.6\n",
      "-3.2 20.0 61.6\n",
      "-3.2 20.0 61.6\n",
      "-3.2 20.0 61.6\n",
      "-3.2 20.0 61.6\n",
      "-3.2 20.0 61.6\n",
      "-3.2 20.0 61.6\n",
      "-3.2 20.0 61.6\n",
      "-3.2 20.0 61.6\n",
      "-3.2 20.0 61.6\n",
      "-3.2 20.0 61.6\n",
      "-3.2 20.0 61.6\n",
      "-3.2 20.0 61.6\n",
      "-3.2 20.0 61.6\n",
      "-3.2 20.0 61.6\n",
      "-3.2 20.0 61.6\n",
      "-3.2 20.0 61.6\n",
      "-3.2 20.0 61.6\n",
      "-3.2 20.0 61.6\n",
      "-3.2 20.0 61.6\n",
      "-3.2 20.0 61.6\n",
      "-3.2 20.0 61.6\n",
      "-3.2 20.0 61.6\n",
      "-3.2 20.0 61.6\n",
      "-3.2 20.0 61.6\n",
      "-3.2 20.0 61.6\n",
      "-3.2 20.0 61.6\n",
      "-3.2 20.0 61.6\n",
      "-3.2 20.0 61.6\n",
      "-3.2 20.0 61.6\n",
      "-3.2 20.0 61.6\n",
      "-3.2 20.0 61.6\n",
      "-3.2 20.0 61.6\n",
      "-3.2 20.0 61.6\n",
      "-3.2 20.0 61.6\n",
      "-3.2 20.0 61.6\n",
      "-3.2 20.0 61.6\n",
      "-3.2 20.0 61.6\n",
      "-3.2 20.0 61.6\n",
      "-3.2 20.0 61.6\n",
      "-3.2 20.0 61.6\n",
      "-3.2 20.0 61.6\n",
      "-3.2 20.0 61.6\n",
      "-3.2 20.0 61.6\n",
      "-3.2 20.0 61.6\n",
      "-3.2 20.0 61.6\n",
      "-3.2 20.0 61.6\n",
      "-3.2 20.0 61.6\n",
      "-3.2 20.0 61.6\n",
      "-3.2 20.0 61.6\n",
      "-3.2 20.0 61.6\n",
      "-3.2 20.0 61.6\n",
      "-3.2 20.0 61.6\n",
      "-3.2 20.0 61.6\n",
      "-3.2 20.0 61.6\n",
      "-3.2 20.0 61.6\n",
      "-3.2 20.0 61.6\n",
      "-3.2 20.0 61.6\n",
      "-3.2 20.0 61.6\n",
      "-3.2 20.0 61.6\n",
      "-3.2 20.0 61.6\n",
      "-3.2 20.0 61.6\n",
      "-3.2 20.0 61.6\n",
      "-3.2 20.0 61.6\n",
      "-3.2 20.0 61.6\n",
      "-3.2 20.0 61.6\n",
      "-3.2 20.0 61.6\n",
      "-3.2 20.0 61.6\n",
      "-3.2 20.0 61.6\n",
      "-3.2 20.0 61.6\n",
      "-3.2 20.0 61.6\n",
      "-3.2 20.0 61.6\n",
      "-3.2 20.0 61.6\n",
      "-3.2 20.0 61.6\n",
      "-3.2 20.0 61.6\n",
      "-3.2 20.0 61.6\n",
      "-3.2 20.0 61.6\n",
      "-3.2 20.0 61.6\n",
      "-3.2 20.0 61.6\n",
      "-3.2 20.0 61.6\n",
      "-3.2 20.0 61.6\n",
      "-3.2 20.0 61.6\n",
      "-3.2 20.0 61.6\n",
      "-3.2 20.0 61.6\n",
      "-3.2 20.0 61.6\n",
      "-3.2 20.0 61.6\n",
      "-3.2 20.0 61.6\n",
      "-3.2 20.0 61.6\n",
      "-3.2 20.0 61.6\n",
      "-3.2 20.0 61.6\n",
      "-3.2 20.0 61.6\n",
      "-3.2 20.0 61.6\n",
      "-3.2 20.0 61.6\n",
      "-3.2 20.0 61.6\n",
      "-3.2 20.0 61.6\n",
      "-3.2 20.0 61.6\n",
      "-3.2 20.0 61.6\n",
      "-3.2 20.0 61.6\n",
      "-3.2 20.0 61.6\n",
      "-3.2 20.0 61.6\n",
      "-3.2 20.0 61.6\n",
      "-3.2 20.0 61.6\n",
      "-3.2 20.0 61.6\n",
      "-3.2 20.0 61.6\n",
      "-3.2 20.0 61.6\n",
      "-3.2 20.0 61.6\n",
      "-3.2 20.0 61.6\n",
      "-3.2 20.0 61.6\n",
      "-3.2 20.0 61.6\n",
      "-3.2 20.0 61.6\n",
      "-3.2 20.0 61.6\n",
      "-3.2 20.0 61.6\n",
      "-3.2 20.0 61.6\n",
      "-3.2 20.0 61.6\n",
      "-3.2 20.0 61.6\n",
      "-3.2 20.0 61.6\n",
      "-3.2 20.0 61.6\n",
      "-3.2 20.0 61.6\n",
      "-3.2 20.0 61.6\n",
      "-3.2 20.0 61.6\n",
      "-3.2 20.0 61.6\n",
      "-3.2 20.0 61.6\n",
      "-3.2 20.0 61.6\n",
      "-3.2 20.0 61.6\n",
      "-3.2 20.0 61.6\n",
      "-3.2 20.0 61.6\n",
      "-3.2 20.0 61.6\n",
      "-3.2 20.0 61.6\n"
     ]
    }
   ],
   "source": [
    "Bouncyballs = [(1,0) , (1,2) ,(1,3), (9,6), (3,9), (5,4)]\n",
    "smallest_error =float(\"inf\")\n",
    "best_m = 0\n",
    "best_b = 0\n",
    "\n",
    "for m in possible_ms:\n",
    "    for b in possible_bs :\n",
    "        errors = calculate_all_error(m,b, Bouncyballs)\n",
    "    if errors < smallest_error:\n",
    "        best_m = m\n",
    "        best_b = b\n",
    "        smallest_error = errors\n",
    "    print(best_m,best_b , smallest_error)"
   ]
  },
  {
   "cell_type": "markdown",
   "metadata": {},
   "source": [
    "## Part 3: What does our model predict?\n",
    "\n",
    "Now we have seen that for this set of observations on the bouncy balls, the line that fits the data best has an `m` of 0.4 and a `b` of 1.6:\n",
    "\n",
    "```\n",
    "y = 0.4x + 1.6\n",
    "```\n",
    "\n",
    "This line produced a total error of 5.\n",
    "\n",
    "Using this `m` and this `b`, what does your line predict the bounce height of a ball with a width of 6 to be?\n",
    "In other words, what is the output of `get_y()` when we call it with:\n",
    "* m = 0.4\n",
    "* b = 1.6\n",
    "* x = 6"
   ]
  },
  {
   "cell_type": "code",
   "execution_count": 45,
   "metadata": {},
   "outputs": [
    {
     "data": {
      "text/plain": [
       "4.0"
      ]
     },
     "execution_count": 45,
     "metadata": {},
     "output_type": "execute_result"
    }
   ],
   "source": [
    "get_y (0.4, 1.6,6)\n"
   ]
  },
  {
   "cell_type": "markdown",
   "metadata": {},
   "source": [
    "Our model predicts that the 6cm ball will bounce 4m.\n",
    "\n",
    "Now, Reggie can use this model to predict the bounce of all kinds of sizes of balls he may choose to include in the ball pit!"
   ]
  },
  {
   "cell_type": "code",
   "execution_count": 46,
   "metadata": {
    "collapsed": true
   },
   "outputs": [
    {
     "name": "stdout",
     "output_type": "stream",
     "text": [
      "Best m: -3.2\n",
      "Best b: 20.0\n",
      "Smallest error: 61.6\n",
      "Predicted bounce height for 6cm ball: 0.7999999999999972\n"
     ]
    }
   ],
   "source": [
    "print(f\"Best m: {best_m}\")\n",
    "print(f\"Best b: {best_b}\")\n",
    "print(f\"Smallest error: {smallest_error}\")\n",
    "predicted_bounce = get_y(best_m, best_b, 6)\n",
    "print(f\"Predicted bounce height for 6cm ball: {predicted_bounce}\")\n",
    "\n"
   ]
  }
 ],
 "metadata": {
  "kernelspec": {
   "display_name": "base",
   "language": "python",
   "name": "python3"
  },
  "language_info": {
   "codemirror_mode": {
    "name": "ipython",
    "version": 3
   },
   "file_extension": ".py",
   "mimetype": "text/x-python",
   "name": "python",
   "nbconvert_exporter": "python",
   "pygments_lexer": "ipython3",
   "version": "3.12.7"
  }
 },
 "nbformat": 4,
 "nbformat_minor": 2
}
